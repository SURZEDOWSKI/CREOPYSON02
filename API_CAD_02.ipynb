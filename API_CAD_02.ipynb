{
 "cells": [
  {
   "cell_type": "code",
   "execution_count": 90,
   "metadata": {},
   "outputs": [],
   "source": [
    "import creopyson\n",
    "import time\n",
    "\n",
    "c = creopyson.Client()\n",
    "c.connect()\n",
    "c.creo_set_creo_version(7)"
   ]
  },
  {
   "cell_type": "code",
   "execution_count": 95,
   "metadata": {},
   "outputs": [],
   "source": [
    "def start_creo():\n",
    "    import subprocess\n",
    "    subprocess.Popen('\"c://Program Files/PTC/Creo 7.0.1.0/Parametric/bin/parametric.bat\"')"
   ]
  },
  {
   "cell_type": "code",
   "execution_count": 96,
   "metadata": {},
   "outputs": [],
   "source": [
    "if c.is_creo_running():\n",
    "    c = creopyson.Client()\n",
    "    c.connect()\n",
    "    c.creo_set_creo_version(7)\n",
    "    creopyson.file_open(c, file_=\"projekt2.prt\", dirname=\"C:/Users/Public/Documents/API_CAD/projekt2\")\n",
    "else:\n",
    "    start_creo()\n",
    "    wU = True\n",
    "    while wU == True:\n",
    "        if c.is_creo_running(): #checks the condition\n",
    "            c = creopyson.Client()\n",
    "            c.connect()\n",
    "            c.creo_set_creo_version(7)\n",
    "            creopyson.file_open(c, file_=\"projekt2.prt\", dirname=\"C:/Users/Public/Documents/API_CAD/projekt2\")\n",
    "            wU = False\n",
    "        time.sleep(5) #waits 60s for preformance\n",
    "    "
   ]
  },
  {
   "cell_type": "code",
   "execution_count": 3,
   "metadata": {},
   "outputs": [],
   "source": [
    "def changedimCA(val):\n",
    "    c.dimension_set(\"dimCA\", val)\n",
    "    return val\n",
    "\n",
    "def changedimCB(val):\n",
    "    c.dimension_set(\"dimCB\", val)\n",
    "    return val"
   ]
  },
  {
   "cell_type": "code",
   "execution_count": 4,
   "metadata": {},
   "outputs": [],
   "source": [
    "def changedimA(val, CA):\n",
    "    changedimCA(CA)\n",
    "    c.dimension_set(\"dimA\", val)\n",
    "    c.dimension_set(\"length_dimC\", (val-CA))\n",
    "\n",
    "def changedimB(val, CB):\n",
    "    changedimCB(CB)\n",
    "    c.dimension_set(\"dimB\", val)\n",
    "    c.dimension_set(\"height_dimC\", (val-CB))"
   ]
  },
  {
   "cell_type": "code",
   "execution_count": 5,
   "metadata": {},
   "outputs": [],
   "source": [
    "def changedimEFA(valE, valF, valDIM_DIST):\n",
    "    c.dimension_set(\"dimEA\", valE)\n",
    "    c.dimension_set(\"dimFA\", valF)\n",
    "    c.dimension_set(\"dim_distEFA\", valDIM_DIST)\n",
    "\n",
    "def changedimEFB(valE, valF, valDIM_DIST):\n",
    "    c.dimension_set(\"dimEB\", valE)\n",
    "    c.dimension_set(\"dimFB\", valF)\n",
    "    c.dimension_set(\"dim_distEFB\", valDIM_DIST)"
   ]
  },
  {
   "cell_type": "code",
   "execution_count": 18,
   "metadata": {},
   "outputs": [],
   "source": [
    "def supress_all():\n",
    "    c.feature_suppress(name=\"WYPUSTA1\")\n",
    "    c.feature_suppress(name=\"WYPUSTB1\")\n",
    "    c.feature_suppress(name=\"PATTERN_OTWORYA140\")\n",
    "    c.feature_suppress(name=\"PATTERN_OTWORYB140\")\n",
    "    wypust('A', 0)\n",
    "    wypust('B', 0)"
   ]
  },
  {
   "cell_type": "code",
   "execution_count": 7,
   "metadata": {},
   "outputs": [],
   "source": [
    "def wypust(bok, tryb):\n",
    "    if bok == 'A':\n",
    "        if tryb == 0:\n",
    "            c.feature_suppress(name=\"WYPUSTA1\")            \n",
    "        else:\n",
    "            c.feature_resume(name=\"WYPUSTA1\")\n",
    "            c.feature_resume(name=\"WYPUSTA2\")\n",
    "            c.feature_resume(name=\"WYPUSTA3\")\n",
    "    else:\n",
    "        if tryb == 0:\n",
    "            c.feature_suppress(name=\"WYPUSTB1\")            \n",
    "        else:\n",
    "            c.feature_resume(name=\"WYPUSTB1\")\n",
    "            c.feature_resume(name=\"WYPUSTB2\")\n",
    "            c.feature_resume(name=\"WYPUSTB3\")"
   ]
  },
  {
   "cell_type": "code",
   "execution_count": 8,
   "metadata": {},
   "outputs": [],
   "source": [
    "def save_wymiary(nazwa, A, B, C, D, E, F):\n",
    "    material_name = c.file_get_cur_material()\n",
    "    mass = c.file_massprops()['mass']\n",
    "\n",
    "    msg =str(\"Nazwa: \" + nazwa +\n",
    "    \"\\nA= \" + str(A) +\n",
    "    \"\\nB= \" + str(B) +\n",
    "    \"\\nC= \" + str(C) +\n",
    "    \"\\nD= \" + str(D) +\n",
    "    \"\\nE= \" + str(E) +\n",
    "    \"\\nF= \" + str(F) +\n",
    "    \"\\nNazwa materiału: \" + material_name +\n",
    "    \"\\nMasa modelu: \" +  str(mass))\n",
    "\n",
    "    f = open(\"wymiary.txt\", 'w')\n",
    "    f.write(msg)\n",
    "    print(msg)"
   ]
  },
  {
   "cell_type": "code",
   "execution_count": 24,
   "metadata": {},
   "outputs": [],
   "source": [
    "def default():\n",
    "    \n",
    "    supress_all()\n",
    "\n",
    "    changedimA(140, 8)\n",
    "    changedimB(140, 8)\n",
    "    changedimEFA(36, 10, 22)\n",
    "    changedimEFB(36, 10, 22)\n",
    "\n",
    "    wypust('A', 1)\n",
    "    wypust('B', 1)\n",
    "    c.feature_resume(name=\"PATTERN_OTWORYA140\")\n",
    "    c.feature_resume(name=\"PATTERN_OTWORYB140\")\n",
    "\n",
    "    creopyson.file.regenerate(c)\n",
    "\n",
    "    save_wymiary('model prototypowy', 140, 140, 8, 100, 36, 10)\n",
    "\n",
    "    creopyson.file.regenerate(c)"
   ]
  },
  {
   "cell_type": "code",
   "execution_count": 16,
   "metadata": {},
   "outputs": [],
   "source": [
    "def W1():\n",
    "    supress_all()\n",
    "\n",
    "    changedimA(100, 8)\n",
    "    changedimB(100, 8)\n",
    "    changedimEFA(36, 10, 22)\n",
    "    changedimEFB(36, 10, 22)\n",
    "\n",
    "    creopyson.file.regenerate(c)\n",
    "\n",
    "    save_wymiary('W1', 100, 100, 8, 100, 36, 10)\n",
    "\n",
    "    creopyson.file.regenerate(c)\n",
    "\n",
    "    "
   ]
  },
  {
   "cell_type": "code",
   "execution_count": 19,
   "metadata": {},
   "outputs": [],
   "source": [
    "def W2():\n",
    "    supress_all()\n",
    "\n",
    "    changedimA(100, 8)\n",
    "    changedimB(140, 8)\n",
    "    changedimEFA(36, 10, 22)\n",
    "    changedimEFB(36, 10, 22)\n",
    "\n",
    "    wypust('B', 1)\n",
    "    c.feature_resume(name=\"PATTERN_OTWORYB140\")\n",
    "\n",
    "    creopyson.file.regenerate(c)\n",
    "\n",
    "    save_wymiary('W2', 100, 140, 8, 100, 36, 10)\n",
    "\n",
    "    creopyson.file.regenerate(c)"
   ]
  },
  {
   "cell_type": "code",
   "execution_count": 29,
   "metadata": {},
   "outputs": [],
   "source": [
    "def W3():\n",
    "    supress_all()\n",
    "\n",
    "    changedimA(100, 8)\n",
    "    changedimB(180, 8)\n",
    "    changedimEFA(36, 10, 22)\n",
    "    changedimEFB(36, 10, 22)\n",
    "\n",
    "    wypust('B', 1)\n",
    "    c.feature_resume(name=\"PATTERN_OTWORYB140\")\n",
    "    c.feature_resume(name=\"PATTERN_OTWORYB180\")\n",
    "\n",
    "    creopyson.file.regenerate(c)\n",
    "\n",
    "    save_wymiary('W3', 100, 180, 8, 100, 36, 10)\n",
    "\n",
    "    creopyson.file.regenerate(c)"
   ]
  },
  {
   "cell_type": "code",
   "execution_count": 30,
   "metadata": {},
   "outputs": [],
   "source": [
    "def W4():\n",
    "    supress_all()\n",
    "\n",
    "    changedimA(140, 10)\n",
    "    changedimB(100, 10)\n",
    "    changedimEFA(38, 12, 19)\n",
    "    changedimEFB(38, 12, 19)\n",
    "\n",
    "    wypust('A', 1)\n",
    "    c.feature_resume(name=\"PATTERN_OTWORYA140\")\n",
    "\n",
    "    creopyson.file.regenerate(c)\n",
    "\n",
    "    save_wymiary('W4', 140, 100, 10, 100, 38, 12)\n",
    "\n",
    "    creopyson.file.regenerate(c)"
   ]
  },
  {
   "cell_type": "code",
   "execution_count": 35,
   "metadata": {},
   "outputs": [],
   "source": [
    "def W5():\n",
    "    supress_all()\n",
    "\n",
    "    changedimA(140, 10)\n",
    "    changedimB(140, 10)\n",
    "    changedimEFA(38, 12, 19)\n",
    "    changedimEFB(38, 12, 19)\n",
    "\n",
    "    wypust('A', 1)\n",
    "    wypust('B', 1)\n",
    "    c.feature_resume(name=\"PATTERN_OTWORYA140\")\n",
    "    c.feature_resume(name=\"PATTERN_OTWORYB140\")\n",
    "\n",
    "    creopyson.file.regenerate(c)\n",
    "\n",
    "    save_wymiary('W5', 140, 140, 10, 100, 38, 12)\n",
    "\n",
    "    creopyson.file.regenerate(c)"
   ]
  },
  {
   "cell_type": "code",
   "execution_count": 38,
   "metadata": {},
   "outputs": [],
   "source": [
    "def W6():\n",
    "    supress_all()\n",
    "\n",
    "    changedimA(140, 10)\n",
    "    changedimB(180, 10)\n",
    "    changedimEFA(38, 12, 19)\n",
    "    changedimEFB(38, 12, 19)\n",
    "\n",
    "    wypust('A', 1)\n",
    "    wypust('B', 1)\n",
    "    c.feature_resume(name=\"PATTERN_OTWORYA140\")\n",
    "    c.feature_resume(name=\"PATTERN_OTWORYB140\")\n",
    "    c.feature_resume(name=\"PATTERN_OTWORYB180\")\n",
    "\n",
    "    creopyson.file.regenerate(c)\n",
    "\n",
    "    save_wymiary('W6', 140, 180, 10, 100, 38, 12)\n",
    "\n",
    "    creopyson.file.regenerate(c)"
   ]
  },
  {
   "cell_type": "code",
   "execution_count": 40,
   "metadata": {},
   "outputs": [],
   "source": [
    "def W7():\n",
    "    supress_all()\n",
    "\n",
    "    changedimA(180, 11)\n",
    "    changedimB(100, 11)\n",
    "    changedimEFA(40, 14, 16)\n",
    "    changedimEFB(40, 14, 16)\n",
    "\n",
    "    wypust('A', 1)\n",
    "    c.feature_resume(name=\"PATTERN_OTWORYA140\")\n",
    "    c.feature_resume(name=\"PATTERN_OTWORYA180\")\n",
    "\n",
    "    creopyson.file.regenerate(c)\n",
    "\n",
    "    save_wymiary('W7', 180, 100, 11, 100, 40, 14)\n",
    "\n",
    "    creopyson.file.regenerate(c)"
   ]
  },
  {
   "cell_type": "code",
   "execution_count": 46,
   "metadata": {},
   "outputs": [],
   "source": [
    "def W8():\n",
    "    supress_all()\n",
    "\n",
    "    changedimA(180, 11)\n",
    "    changedimB(140, 11)\n",
    "    changedimEFA(40, 14, 16)\n",
    "    changedimEFB(40, 14, 16)\n",
    "\n",
    "    wypust('A', 1)\n",
    "    wypust('B', 1)\n",
    "    c.feature_resume(name=\"PATTERN_OTWORYA140\")\n",
    "    c.feature_resume(name=\"PATTERN_OTWORYA180\")\n",
    "    c.feature_resume(name=\"PATTERN_OTWORYB140\")\n",
    "\n",
    "    creopyson.file.regenerate(c)\n",
    "\n",
    "    save_wymiary('W8', 180, 140, 11, 100, 40, 14)\n",
    "\n",
    "    creopyson.file.regenerate(c)"
   ]
  },
  {
   "cell_type": "code",
   "execution_count": 50,
   "metadata": {},
   "outputs": [],
   "source": [
    "def W9():\n",
    "    supress_all()\n",
    "\n",
    "    changedimA(180, 11)\n",
    "    changedimB(180, 11)\n",
    "    changedimEFA(40, 14, 16)\n",
    "    changedimEFB(40, 14, 16)\n",
    "\n",
    "    wypust('A', 1)\n",
    "    wypust('B', 1)\n",
    "    c.feature_resume(name=\"PATTERN_OTWORYA140\")\n",
    "    c.feature_resume(name=\"PATTERN_OTWORYA180\")\n",
    "    c.feature_resume(name=\"PATTERN_OTWORYB140\")\n",
    "    c.feature_resume(name=\"PATTERN_OTWORYB180\")\n",
    "\n",
    "    creopyson.file.regenerate(c)\n",
    "\n",
    "    save_wymiary('W9', 180, 180, 11, 100, 40, 14)\n",
    "\n",
    "    creopyson.file.regenerate(c)"
   ]
  },
  {
   "cell_type": "code",
   "execution_count": 51,
   "metadata": {},
   "outputs": [],
   "source": [
    "def loadMat(name, src):\n",
    "    for i in range(len(name)):\n",
    "        c.file_load_material_file(name[i], src)"
   ]
  },
  {
   "cell_type": "code",
   "execution_count": 1,
   "metadata": {},
   "outputs": [
    {
     "ename": "NameError",
     "evalue": "name 'loadMat' is not defined",
     "output_type": "error",
     "traceback": [
      "\u001b[1;31m---------------------------------------------------------------------------\u001b[0m",
      "\u001b[1;31mNameError\u001b[0m                                 Traceback (most recent call last)",
      "\u001b[1;32mc:\\Users\\uzi16\\Desktop\\API_CAD_02.ipynb Cell 21'\u001b[0m in \u001b[0;36m<module>\u001b[1;34m\u001b[0m\n\u001b[1;32m----> <a href='vscode-notebook-cell:/c%3A/Users/uzi16/Desktop/API_CAD_02.ipynb#ch0000020?line=0'>1</a>\u001b[0m loadMat([\u001b[39m\"\u001b[39m\u001b[39mCast_iron_ductile\u001b[39m\u001b[39m\"\u001b[39m, \u001b[39m\"\u001b[39m\u001b[39mSteel_cast\u001b[39m\u001b[39m\"\u001b[39m, \u001b[39m\"\u001b[39m\u001b[39mSteel_medium_carbon\u001b[39m\u001b[39m\"\u001b[39m], \u001b[39mr\u001b[39m\u001b[39m\"\u001b[39m\u001b[39mC:\u001b[39m\u001b[39m\\\u001b[39m\u001b[39mProgram Files\u001b[39m\u001b[39m\\\u001b[39m\u001b[39mPTC\u001b[39m\u001b[39m\\\u001b[39m\u001b[39mCreo 7.0.1.0\u001b[39m\u001b[39m\\\u001b[39m\u001b[39mCommon Files\u001b[39m\u001b[39m\\\u001b[39m\u001b[39mtext\u001b[39m\u001b[39m\\\u001b[39m\u001b[39mmaterials-library\u001b[39m\u001b[39m\\\u001b[39m\u001b[39mStandard-Materials_Granta-Design\u001b[39m\u001b[39m\\\u001b[39m\u001b[39mFerrous_metals\u001b[39m\u001b[39m\"\u001b[39m)\n",
      "\u001b[1;31mNameError\u001b[0m: name 'loadMat' is not defined"
     ]
    }
   ],
   "source": [
    "loadMat([\"Cast_iron_ductile\", \"Steel_cast\", \"Steel_medium_carbon\"], r\"C:\\Program Files\\PTC\\Creo 7.0.1.0\\Common Files\\text\\materials-library\\Standard-Materials_Granta-Design\\Ferrous_metals\")"
   ]
  },
  {
   "cell_type": "code",
   "execution_count": 107,
   "metadata": {},
   "outputs": [],
   "source": [
    "def changeMat():\n",
    "    print(\"Aktualny materiał: \" + c.file_get_cur_material())\n",
    "    try:\n",
    "        print(\"\\nDostępne materiały: \" + str(c.file_list_materials()))\n",
    "        print(\"Podaj nazwę materiału:\")\n",
    "        name = input()\n",
    "        name = str(name)\n",
    "        c.file_set_cur_material(name)\n",
    "        current = c.file_get_cur_material()\n",
    "    except:\n",
    "        print(\"Zła wartość!\")\n",
    "    else:\n",
    "        print(current)"
   ]
  },
  {
   "cell_type": "code",
   "execution_count": 114,
   "metadata": {},
   "outputs": [],
   "source": [
    "def changeDir():\n",
    "    try:\n",
    "        print(c.creo_pwd())\n",
    "        print(\"Podaj ścieżkę:\")\n",
    "        newDir = input()\n",
    "        newDir = str(newDir)\n",
    "        new = c.creo_cd(newDir)\n",
    "    except:\n",
    "        print(\"Wrong directory path\")\n",
    "    else:\n",
    "        print(new)"
   ]
  },
  {
   "cell_type": "code",
   "execution_count": 102,
   "metadata": {},
   "outputs": [],
   "source": [
    "def changeModel(model):\n",
    "    if model == \"1\":\n",
    "        W1()\n",
    "    elif model == \"2\":\n",
    "        W2()\n",
    "    elif model == \"3\":\n",
    "        W3()\n",
    "    elif model == \"4\":\n",
    "        W4()\n",
    "    elif model == \"5\":\n",
    "        W5()\n",
    "    elif model == \"6\":\n",
    "        W6()\n",
    "    elif model == \"7\":\n",
    "        W7()\n",
    "    elif model == \"8\":\n",
    "        W8()\n",
    "    elif model == \"9\":\n",
    "        W9()\n",
    "    elif model == \"0\":\n",
    "        default() \n",
    "    else:\n",
    "        print(\"Podano złą wartość!\")"
   ]
  },
  {
   "cell_type": "code",
   "execution_count": 97,
   "metadata": {},
   "outputs": [],
   "source": [
    "def model_export():\n",
    "    c.interface_export_file(file_type=\"STEP\")\n",
    "    c.interface_export_3dpdf()"
   ]
  },
  {
   "cell_type": "code",
   "execution_count": 98,
   "metadata": {},
   "outputs": [],
   "source": [
    "def assembly():\n",
    "    c.file_assemble(\"projekt2.prt\")"
   ]
  },
  {
   "cell_type": "code",
   "execution_count": 115,
   "metadata": {},
   "outputs": [],
   "source": [
    "def start():\n",
    "    run = True\n",
    "    while(run):\n",
    "        print(\"Wybierz dostępną opcję: \\\n",
    "        \\n1. Zmień model \\\n",
    "        \\n2. Zmień materiał \\\n",
    "        \\n3. Zmień katalog roboczy \\\n",
    "        \\n4. Eksportuj model \\\n",
    "        \\n5. Wstaw model do złożenia \\\n",
    "        \\nQ. Wyjdź\")   \n",
    "\n",
    "        act = input()\n",
    "        if act == \"1\":\n",
    "            print(\"Wybierz model: \\\n",
    "                \\n1. W1 \\\n",
    "                \\n2. W2  \\\n",
    "                \\n3. W3  \\\n",
    "                \\n4. W4  \\\n",
    "                \\n5. W5  \\\n",
    "                \\n6. W6  \\\n",
    "                \\n7. W7  \\\n",
    "                \\n8. W8  \\\n",
    "                \\n9. W9 \\\n",
    "                \\n0. Model prototypowy\")\n",
    "            model = input()\n",
    "            changeModel(model)\n",
    "        elif act == \"2\":\n",
    "            changeMat()\n",
    "        elif act == \"3\":\n",
    "            changeDir()\n",
    "        elif act == \"4\":\n",
    "            model_export()\n",
    "        elif act == \"5\":\n",
    "            assembly()\n",
    "        elif act == \"Q\":\n",
    "            run = False\n",
    "        else:\n",
    "            print(\"Podano złą wartość!\")"
   ]
  },
  {
   "cell_type": "code",
   "execution_count": 117,
   "metadata": {},
   "outputs": [
    {
     "name": "stdout",
     "output_type": "stream",
     "text": [
      "Wybierz dostępną opcję:         \n",
      "1. Zmień model         \n",
      "2. Zmień materiał         \n",
      "3. Zmień katalog roboczy         \n",
      "4. Eksportuj model         \n",
      "5. Wstaw model do złożenia         \n",
      "Q. Wyjdź\n",
      "c:/Users/uzi16/Desktop/\n",
      "Podaj ścieżkę:\n",
      "C:/Users/Public/Documents/API_CAD/projekt2/\n",
      "Wybierz dostępną opcję:         \n",
      "1. Zmień model         \n",
      "2. Zmień materiał         \n",
      "3. Zmień katalog roboczy         \n",
      "4. Eksportuj model         \n",
      "5. Wstaw model do złożenia         \n",
      "Q. Wyjdź\n",
      "Wybierz dostępną opcję:         \n",
      "1. Zmień model         \n",
      "2. Zmień materiał         \n",
      "3. Zmień katalog roboczy         \n",
      "4. Eksportuj model         \n",
      "5. Wstaw model do złożenia         \n",
      "Q. Wyjdź\n"
     ]
    }
   ],
   "source": [
    "start()"
   ]
  }
 ],
 "metadata": {
  "interpreter": {
   "hash": "a8021677622913358f2153947171a02f4e569116433047e02a7e95fc002d0f77"
  },
  "kernelspec": {
   "display_name": "Python 3.10.2 64-bit",
   "language": "python",
   "name": "python3"
  },
  "language_info": {
   "codemirror_mode": {
    "name": "ipython",
    "version": 3
   },
   "file_extension": ".py",
   "mimetype": "text/x-python",
   "name": "python",
   "nbconvert_exporter": "python",
   "pygments_lexer": "ipython3",
   "version": "3.10.2"
  },
  "orig_nbformat": 4
 },
 "nbformat": 4,
 "nbformat_minor": 2
}
